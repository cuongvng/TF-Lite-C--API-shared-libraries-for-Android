{
  "nbformat": 4,
  "nbformat_minor": 0,
  "metadata": {
    "colab": {
      "name": "run_me.ipynb",
      "provenance": [],
      "collapsed_sections": []
    },
    "kernelspec": {
      "display_name": "Python 3",
      "name": "python3"
    }
  },
  "cells": [
    {
      "cell_type": "markdown",
      "metadata": {
        "id": "UZ5YWT3cfOla"
      },
      "source": [
        "<a href=\"https://colab.research.google.com/github/cuongvng/TF-Lite-Cpp-API-for-Android/blob/main/run_me.ipynb\" target=\"_parent\">\n",
        "  <img src=\"https://colab.research.google.com/assets/colab-badge.svg\" alt=\"Open In Colab\"/>\n",
        "</a>"
      ]
    },
    {
      "cell_type": "code",
      "metadata": {
        "id": "NhHTp2SgdGKQ"
      },
      "source": [
        "!git clone https://github.com/tensorflow/tensorflow"
      ],
      "execution_count": null,
      "outputs": []
    },
    {
      "cell_type": "code",
      "metadata": {
        "id": "GI2EmkQRM_es"
      },
      "source": [
        "%cd tensorflow"
      ],
      "execution_count": null,
      "outputs": []
    },
    {
      "cell_type": "markdown",
      "metadata": {
        "id": "E9Y0CgUvaQM7"
      },
      "source": [
        "### Install [bazel](https://docs.bazel.build/versions/4.0.0/install-ubuntu.html#install-on-ubuntu) to build tf lite library for C++ "
      ]
    },
    {
      "cell_type": "code",
      "metadata": {
        "id": "Y9HDi6KWbb_g"
      },
      "source": [
        "!sudo apt install curl gnupg\n",
        "!curl -fsSL https://bazel.build/bazel-release.pub.gpg | gpg --dearmor > bazel.gpg\n",
        "!sudo mv bazel.gpg /etc/apt/trusted.gpg.d/\n",
        "!echo \"deb [arch=amd64] https://storage.googleapis.com/bazel-apt stable jdk1.8\" | sudo tee /etc/apt/sources.list.d/bazel.list\n",
        "!sudo apt update && sudo apt install bazel\n",
        "!sudo apt update && sudo apt full-upgrade\n",
        "!sudo apt install bazel-3.7.2"
      ],
      "execution_count": null,
      "outputs": []
    },
    {
      "cell_type": "markdown",
      "metadata": {
        "id": "DV1b8JQ0e3gG"
      },
      "source": [
        "### Build C++ API libraries"
      ]
    },
    {
      "cell_type": "code",
      "metadata": {
        "id": "I3f9oXJOcKUl"
      },
      "source": [
        "# For ARM 64 bit\n",
        "!bazel build -c opt //tensorflow/lite:libtensorflowlite.so --fat_apk_cpu=arm64-v8a\n",
        "# # For ARM 32 bit\n",
        "# bazel build -c opt //tensorflow/lite:libtensorflowlite.so --fat_apk_cpu=arm-v7a"
      ],
      "execution_count": null,
      "outputs": []
    },
    {
      "cell_type": "markdown",
      "metadata": {
        "id": "n0W2_DfLcQmp"
      },
      "source": [
        "The shared library (`.so` file) would be located in `tensorflow/bazel-bin/tensorflow/lite/libtensorflowlite.so`."
      ]
    }
  ]
}